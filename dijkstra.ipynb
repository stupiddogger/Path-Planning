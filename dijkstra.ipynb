{
 "cells": [
  {
   "cell_type": "code",
   "execution_count": 2,
   "metadata": {},
   "outputs": [],
   "source": [
    "#!/usr/bin/python3\n",
    "# -*- coding: utf-8 -*-\n",
    "def djkstra(graph, start, end):\n",
    "     path_set = set()    # 已求的路径集合\n",
    "     priority_dic = {}\n",
    "     for k in graph.keys():\n",
    "         priority_dic[k] = [9999, False, \"\"] # 权重表构建为一个3维数组，分别是：最小路径代价，是否计算过最小边，最小路径\n",
    "     priority_dic[start][0] = 0\n",
    "     # 判断权重表中所有路点是否添加完毕\n",
    "     def isSelectAll():\n",
    "         ret = True\n",
    "         for val in priority_dic.values():\n",
    "             if not val[1]:\n",
    "                 ret = False\n",
    "                 break\n",
    "         return ret\n",
    " \n",
    "     while not isSelectAll():\n",
    "         find_point = start\n",
    "         find_path = start\n",
    "         min_distance = 9999\n",
    "         for path in path_set:\n",
    "             end_point = path[-1]\n",
    "             path_distance = priority_dic[end_point][0]\n",
    "             if path_distance < min_distance and not priority_dic[end_point][1]:\n",
    "                 find_point = end_point\n",
    "                 find_path = path\n",
    "                 min_distance = path_distance\n",
    "         find_distance = priority_dic[find_point][0]\n",
    "         neighbors = graph[find_point]\n",
    "         for k in neighbors.keys():\n",
    "             p = find_path + \"-\" + k\n",
    "             weight = find_distance + neighbors[k]\n",
    "             path_set.add(p)\n",
    "             if weight < priority_dic[k][0]:\n",
    "                 priority_dic[k][0] = weight\n",
    "                 priority_dic[k][2] = p\n",
    "         priority_dic[find_point][1] = True\n",
    " \n",
    "     return priority_dic[end]"
   ]
  },
  {
   "cell_type": "code",
   "execution_count": 12,
   "metadata": {},
   "outputs": [],
   "source": [
    "path_set=set()\n",
    "for path in path_set:\n",
    "    priority_dic = {}\n",
    "    priority_dic[0] = [9999, False, \"\"]\n",
    "    end_point=path[-1]\n",
    "    print(end_point)\n",
    "    path_distance = priority_dic[end_point][0]\n",
    "    print(path_distance)"
   ]
  },
  {
   "cell_type": "code",
   "execution_count": 3,
   "metadata": {},
   "outputs": [
    {
     "name": "stdout",
     "output_type": "stream",
     "text": [
      "[32, True, 'A-E-F-G']\n"
     ]
    }
   ],
   "source": [
    "if __name__ == '__main__':\n",
    "     # 用于测试的图\n",
    "     graph = {\n",
    "                 \"A\": {\"B\": 8, \"D\": 10, \"E\": 12},\n",
    "                 \"B\": {\"C\": 6, \"F\": 12},\n",
    "                 \"C\": {\"F\": 8},\n",
    "                 \"D\": {\"E\": 10, \"G\": 30},\n",
    "                 \"E\": {\"F\": 10},\n",
    "                 \"F\": {\"G\": 12},\n",
    "                 \"G\": {}\n",
    "             }\n",
    "     result = djkstra(graph, \"A\", \"G\")\n",
    "     print(result)\n"
   ]
  },
  {
   "cell_type": "code",
   "execution_count": 4,
   "metadata": {},
   "outputs": [],
   "source": [
    "def startwith(start: int, mgraph: list) -> list:\n",
    "    \"\"\"\n",
    "    start-为出发点的索引，从0开始\n",
    "    mgraph-邻接矩阵\n",
    "    return 列表，每个元素值为start到对应下标点的最短距离\n",
    "    \"\"\"\n",
    "    #passed表示已经过的点，存放已经确定最短距离的点\n",
    "    passed = [start]\n",
    "    #nopass存放还不确定最短距离的点\n",
    "    nopass = [x for x in range(len(mgraph)) if x != start]\n",
    "    dis = mgraph[start]\n",
    "    \n",
    "    while len(nopass):\n",
    "        idx = nopass[0]\n",
    "        for i in nopass:\n",
    "            if dis[i] < dis[idx]: idx = i\n",
    "\n",
    "        nopass.remove(idx)\n",
    "        passed.append(idx)\n",
    "\n",
    "        for i in nopass:\n",
    "            if dis[idx] + mgraph[idx][i] < dis[i]: \n",
    "                dis[i] = dis[idx] + mgraph[idx][i]\n",
    "    return dis"
   ]
  },
  {
   "cell_type": "code",
   "execution_count": 6,
   "metadata": {},
   "outputs": [
    {
     "name": "stdout",
     "output_type": "stream",
     "text": [
      "[0, 1, 8, 4, 13, 17]\n"
     ]
    }
   ],
   "source": [
    "if __name__ == \"__main__\":\n",
    "    inf = 10086\n",
    "    mgraph = [[0, 1, 12, inf, inf, inf],\n",
    "              [inf, 0, 9, 3, inf, inf],\n",
    "              [inf, inf, 0, inf, 5, inf],\n",
    "              [inf, inf, 4, 0, 13, 15],\n",
    "              [inf, inf, inf ,inf, 0, 4],\n",
    "              [inf, inf, inf, inf ,inf, 0]]\n",
    "\n",
    "    dis = startwith(0, mgraph)\n",
    "print(dis)"
   ]
  },
  {
   "cell_type": "code",
   "execution_count": 6,
   "metadata": {},
   "outputs": [],
   "source": [
    "def dij(start,mgraph):\n",
    "    passed=[start]\n",
    "    nopass=[x for x in range(len(mgraph)) if x!=start]\n",
    "    dis=mgraph[start]\n",
    "    while len(nopass)!=0:\n",
    "        idx=nopass[0]\n",
    "        for i in nopass:\n",
    "            if dis[i]<dis[idx]:\n",
    "                idx=i\n",
    "        nopass.remove(idx)\n",
    "        passed.append(idx)\n",
    "        for i in nopass:\n",
    "            if dis[idx]+mgraph[idx][i]<dis[i]:\n",
    "                dis[i]=dis[idx]+mgraph[idx][i]\n",
    "    return dis"
   ]
  },
  {
   "cell_type": "code",
   "execution_count": 7,
   "metadata": {},
   "outputs": [
    {
     "name": "stdout",
     "output_type": "stream",
     "text": [
      "[0, 1, 8, 4, 13, 17]\n"
     ]
    }
   ],
   "source": [
    "if __name__ == \"__main__\":\n",
    "    inf = 10086\n",
    "    mgraph = [[0, 1, 12, inf, inf, inf],\n",
    "              [inf, 0, 9, 3, inf, inf],\n",
    "              [inf, inf, 0, inf, 5, inf],\n",
    "              [inf, inf, 4, 0, 13, 15],\n",
    "              [inf, inf, inf ,inf, 0, 4],\n",
    "              [inf, inf, inf, inf ,inf, 0]]\n",
    "\n",
    "    dis = dij(0, mgraph)\n",
    "print(dis)"
   ]
  },
  {
   "cell_type": "code",
   "execution_count": null,
   "metadata": {},
   "outputs": [],
   "source": []
  }
 ],
 "metadata": {
  "kernelspec": {
   "display_name": "Python [conda env:kaggle]",
   "language": "python",
   "name": "conda-env-kaggle-py"
  },
  "language_info": {
   "codemirror_mode": {
    "name": "ipython",
    "version": 3
   },
   "file_extension": ".py",
   "mimetype": "text/x-python",
   "name": "python",
   "nbconvert_exporter": "python",
   "pygments_lexer": "ipython3",
   "version": "3.7.9"
  }
 },
 "nbformat": 4,
 "nbformat_minor": 4
}
